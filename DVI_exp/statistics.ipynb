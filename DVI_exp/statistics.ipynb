{
 "cells": [
  {
   "cell_type": "markdown",
   "metadata": {
    "collapsed": true,
    "pycharm": {
     "name": "#%% md\n"
    }
   },
   "source": [
    "# for DeepView"
   ],
   "outputs": [
    {
     "ename": "SyntaxError",
     "evalue": "invalid syntax (<ipython-input-1-97248d11f401>, line 1)",
     "output_type": "error",
     "traceback": [
      "\u001B[1;36m  File \u001B[1;32m\"<ipython-input-1-97248d11f401>\"\u001B[1;36m, line \u001B[1;32m1\u001B[0m\n\u001B[1;33m    for DeepView\u001B[0m\n\u001B[1;37m                ^\u001B[0m\n\u001B[1;31mSyntaxError\u001B[0m\u001B[1;31m:\u001B[0m invalid syntax\n"
     ]
    }
   ],
   "execution_count": 1
  },
  {
   "cell_type": "code",
   "execution_count": null,
   "outputs": [],
   "source": [
    "import os.path\n",
    "import json\n",
    "import numpy as np"
   ],
   "metadata": {
    "collapsed": false,
    "pycharm": {
     "name": "#%%\n"
    }
   }
  },
  {
   "cell_type": "markdown",
   "source": [
    "## exp result"
   ],
   "metadata": {
    "collapsed": false,
    "pycharm": {
     "name": "#%% md\n"
    }
   }
  },
  {
   "cell_type": "code",
   "execution_count": null,
   "outputs": [],
   "source": [
    "# cifar10\n",
    "multi_run_path = os.path.join(\".\", \"batch_run_results\")\n",
    "for epoch in range(40, 240, 40):\n",
    "    res = np.zeros(8)\n",
    "\n",
    "    for i in range(1, 11, 1):\n",
    "        curr_path = os.path.join(multi_run_path, \"{}\".format(i), \"CIFAR10_{}\".format(epoch), \"exp_result.json\")\n",
    "        with open(curr_path, \"r\") as f:\n",
    "            curr_exp = json.load(f)\n",
    "        res = res + np.array(curr_exp)\n",
    "    res = np.around(res / 10, 3)\n",
    "    print(epoch, res)"
   ],
   "metadata": {
    "collapsed": false,
    "pycharm": {
     "name": "#%%\n"
    }
   }
  },
  {
   "cell_type": "code",
   "execution_count": null,
   "outputs": [],
   "source": [
    "# fmnist\n",
    "multi_run_path = os.path.join(\".\", \"batch_run_results\")\n",
    "for epoch in range(10, 50, 10):\n",
    "    res = np.zeros(8)\n",
    "    for i in range(1, 11, 1):\n",
    "        curr_path = os.path.join(multi_run_path, \"{}\".format(i), \"FASHIONMNIST_{}\".format(epoch), \"exp_result.json\")\n",
    "        with open(curr_path, \"r\") as f:\n",
    "            curr_exp = json.load(f)\n",
    "        res = res + np.array(curr_exp)\n",
    "    res = np.around(res / 10, 3)\n",
    "    print(epoch, res)"
   ],
   "metadata": {
    "collapsed": false,
    "pycharm": {
     "name": "#%%\n"
    }
   }
  },
  {
   "cell_type": "code",
   "execution_count": null,
   "outputs": [],
   "source": [
    "# mnist\n",
    "multi_run_path = os.path.join(\".\", \"batch_run_results\")\n",
    "for epoch in range(4, 24, 4):\n",
    "    res = np.zeros(8)\n",
    "    for i in range(1, 11, 1):\n",
    "        curr_path = os.path.join(multi_run_path, \"{}\".format(i), \"MNIST_{}\".format(epoch), \"exp_result.json\")\n",
    "        with open(curr_path, \"r\") as f:\n",
    "            curr_exp = json.load(f)\n",
    "        res = res + np.array(curr_exp)\n",
    "    res = np.around(res / 10, 3)\n",
    "    print(epoch, res)"
   ],
   "metadata": {
    "collapsed": false,
    "pycharm": {
     "name": "#%%\n"
    }
   }
  },
  {
   "cell_type": "markdown",
   "source": [
    "## time"
   ],
   "metadata": {
    "collapsed": false,
    "pycharm": {
     "name": "#%% md\n"
    }
   }
  },
  {
   "cell_type": "code",
   "execution_count": null,
   "outputs": [],
   "source": [
    "# cifar10\n",
    "multi_run_path = os.path.join(\".\", \"batch_run_results\")\n",
    "for epoch in range(40, 240, 40):\n",
    "    res = dict()\n",
    "    res[\"distance_cal\"] = .0\n",
    "    res[\"proj_fit\"] = .0\n",
    "    res[\"transform\"] = .0\n",
    "    res[\"inverse_fit\"] = .0\n",
    "    res[\"inverse_transform\"] = .0\n",
    "    for i in range(1, 11, 1):\n",
    "        curr_path = os.path.join(multi_run_path, \"{}\".format(i), \"CIFAR10_{}\".format(epoch), \"time.json\")\n",
    "        with open(curr_path, \"r\") as f:\n",
    "            curr_exp = json.load(f)\n",
    "        res[\"distance_cal\"] = res[\"distance_cal\"] + curr_exp[\"distance_cal\"]\n",
    "        res[\"proj_fit\"] = res[\"proj_fit\"] + curr_exp[\"proj_fit\"]\n",
    "        res[\"transform\"] = res[\"transform\"] + curr_exp[\"transform\"]\n",
    "        res[\"inverse_fit\"] = res[\"inverse_fit\"] + curr_exp[\"inverse_fit\"]\n",
    "        res[\"inverse_transform\"] = res[\"inverse_transform\"] + curr_exp[\"inverse_transform\"]\n",
    "    res[\"distance_cal\"] = round(res[\"distance_cal\"] / 10, 3)\n",
    "    res[\"proj_fit\"] = round(res[\"proj_fit\"] / 10, 3)\n",
    "    res[\"transform\"] = round(res[\"transform\"] / 10, 3)\n",
    "    res[\"inverse_fit\"] = round(res[\"inverse_fit\"] / 10, 3)\n",
    "    res[\"inverse_transform\"] = round(res[\"inverse_transform\"] / 10, 3)\n",
    "    print(epoch, res)"
   ],
   "metadata": {
    "collapsed": false,
    "pycharm": {
     "name": "#%%\n"
    }
   }
  },
  {
   "cell_type": "code",
   "execution_count": null,
   "outputs": [],
   "source": [
    "# fmnist\n",
    "multi_run_path = os.path.join(\".\", \"batch_run_results\")\n",
    "for epoch in range(10, 50, 10):\n",
    "    res = dict()\n",
    "    res[\"distance_cal\"] = .0\n",
    "    res[\"proj_fit\"] = .0\n",
    "    res[\"transform\"] = .0\n",
    "    res[\"inverse_fit\"] = .0\n",
    "    res[\"inverse_transform\"] = .0\n",
    "    for i in range(1, 11, 1):\n",
    "        curr_path = os.path.join(multi_run_path, \"{}\".format(i), \"FASHIONMNIST_{}\".format(epoch), \"time.json\")\n",
    "        with open(curr_path, \"r\") as f:\n",
    "            curr_exp = json.load(f)\n",
    "        res[\"distance_cal\"] = res[\"distance_cal\"] + curr_exp[\"distance_cal\"]\n",
    "        res[\"proj_fit\"] = res[\"proj_fit\"] + curr_exp[\"proj_fit\"]\n",
    "        res[\"transform\"] = res[\"transform\"] + curr_exp[\"transform\"]\n",
    "        res[\"inverse_fit\"] = res[\"inverse_fit\"] + curr_exp[\"inverse_fit\"]\n",
    "        res[\"inverse_transform\"] = res[\"inverse_transform\"] + curr_exp[\"inverse_transform\"]\n",
    "    res[\"distance_cal\"] = round(res[\"distance_cal\"] / 10, 3)\n",
    "    res[\"proj_fit\"] = round(res[\"proj_fit\"] / 10, 3)\n",
    "    res[\"transform\"] = round(res[\"transform\"] / 10, 3)\n",
    "    res[\"inverse_fit\"] = round(res[\"inverse_fit\"] / 10, 3)\n",
    "    res[\"inverse_transform\"] = round(res[\"inverse_transform\"] / 10, 3)\n",
    "    print(epoch, res)"
   ],
   "metadata": {
    "collapsed": false,
    "pycharm": {
     "name": "#%%\n"
    }
   }
  },
  {
   "cell_type": "code",
   "execution_count": null,
   "outputs": [],
   "source": [
    "# mnist\n",
    "multi_run_path = os.path.join(\".\", \"batch_run_results\")\n",
    "for epoch in range(4, 24, 4):\n",
    "    res = dict()\n",
    "    res[\"distance_cal\"] = .0\n",
    "    res[\"proj_fit\"] = .0\n",
    "    res[\"transform\"] = .0\n",
    "    res[\"inverse_fit\"] = .0\n",
    "    res[\"inverse_transform\"] = .0\n",
    "    for i in range(1, 11, 1):\n",
    "        curr_path = os.path.join(multi_run_path, \"{}\".format(i), \"MNIST_{}\".format(epoch), \"time.json\")\n",
    "        with open(curr_path, \"r\") as f:\n",
    "            curr_exp = json.load(f)\n",
    "        res[\"distance_cal\"] = res[\"distance_cal\"] + curr_exp[\"distance_cal\"]\n",
    "        res[\"proj_fit\"] = res[\"proj_fit\"] + curr_exp[\"proj_fit\"]\n",
    "        res[\"transform\"] = res[\"transform\"] + curr_exp[\"transform\"]\n",
    "        res[\"inverse_fit\"] = res[\"inverse_fit\"] + curr_exp[\"inverse_fit\"]\n",
    "        res[\"inverse_transform\"] = res[\"inverse_transform\"] + curr_exp[\"inverse_transform\"]\n",
    "    res[\"distance_cal\"] = round(res[\"distance_cal\"] / 10, 3)\n",
    "    res[\"proj_fit\"] = round(res[\"proj_fit\"] / 10, 3)\n",
    "    res[\"transform\"] = round(res[\"transform\"] / 10, 3)\n",
    "    res[\"inverse_fit\"] = round(res[\"inverse_fit\"] / 10, 3)\n",
    "    res[\"inverse_transform\"] = round(res[\"inverse_transform\"] / 10, 3)\n",
    "    print(epoch, res)"
   ],
   "metadata": {
    "collapsed": false,
    "pycharm": {
     "name": "#%%\n"
    }
   }
  },
  {
   "cell_type": "markdown",
   "source": [
    "# for DVI"
   ],
   "metadata": {
    "collapsed": false,
    "pycharm": {
     "name": "#%% md\n"
    }
   }
  },
  {
   "cell_type": "markdown",
   "source": [
    "## exp results"
   ],
   "metadata": {
    "collapsed": false,
    "pycharm": {
     "name": "#%% md\n"
    }
   }
  },
  {
   "cell_type": "code",
   "execution_count": null,
   "outputs": [],
   "source": [
    "# cifar10\n",
    "content_path = \"E:\\\\DVI_exp_data\\\\DeepViewExp\\\\multi_run\"\n",
    "for epoch in range(40, 240, 40):\n",
    "    curr_path = os.path.join(content_path, \"1\", \"cifar10\", \"Model\", \"Epoch_{}\".format(epoch),\"evaluation.json\")\n",
    "    with open(curr_path, \"r\") as f:\n",
    "        res = json.load(f)\n",
    "    for i in range(2, 11, 1):\n",
    "        curr_path = os.path.join(content_path, \"{}\".format(i), \"cifar10\", \"Model\", \"Epoch_{}\".format(epoch),\"evaluation.json\")\n",
    "        with open(curr_path, \"r\") as f:\n",
    "            curr_exp = json.load(f)\n",
    "        for key in res.keys():\n",
    "            res[key] = res[key] + curr_exp[key]\n",
    "    for key in res.keys():\n",
    "        res[key] = round(res[key] / 10, 3)\n",
    "    print(epoch, res)"
   ],
   "metadata": {
    "collapsed": false,
    "pycharm": {
     "name": "#%%\n"
    }
   }
  },
  {
   "cell_type": "code",
   "execution_count": null,
   "outputs": [],
   "source": [
    "# fmnist\n",
    "content_path = \"E:\\\\DVI_exp_data\\\\DeepViewExp\\\\multi_run\"\n",
    "for epoch in range(10, 50, 10):\n",
    "    curr_path = os.path.join(content_path, \"1\", \"fmnist\", \"Model\", \"Epoch_{}\".format(epoch),\"evaluation.json\")\n",
    "    with open(curr_path, \"r\") as f:\n",
    "        res = json.load(f)\n",
    "    for i in range(2, 11, 1):\n",
    "        curr_path = os.path.join(content_path, \"{}\".format(i), \"fmnist\", \"Model\", \"Epoch_{}\".format(epoch),\"evaluation.json\")\n",
    "        with open(curr_path, \"r\") as f:\n",
    "            curr_exp = json.load(f)\n",
    "        for key in res.keys():\n",
    "            res[key] = res[key] + curr_exp[key]\n",
    "    for key in res.keys():\n",
    "        res[key] = round(res[key] / 10, 3)\n",
    "    print(epoch, res)"
   ],
   "metadata": {
    "collapsed": false,
    "pycharm": {
     "name": "#%%\n"
    }
   }
  },
  {
   "cell_type": "code",
   "execution_count": null,
   "outputs": [],
   "source": [
    "# mnist\n",
    "content_path = \"E:\\\\DVI_exp_data\\\\DeepViewExp\\\\multi_run\"\n",
    "for epoch in range(4, 24, 4):\n",
    "    curr_path = os.path.join(content_path, \"1\", \"mnist\", \"Model\", \"Epoch_{}\".format(epoch),\"evaluation.json\")\n",
    "    with open(curr_path, \"r\") as f:\n",
    "        res = json.load(f)\n",
    "    for i in range(2, 11, 1):\n",
    "        curr_path = os.path.join(content_path, \"{}\".format(i), \"mnist\", \"Model\", \"Epoch_{}\".format(epoch),\"evaluation.json\")\n",
    "        with open(curr_path, \"r\") as f:\n",
    "            curr_exp = json.load(f)\n",
    "        for key in res.keys():\n",
    "            res[key] = res[key] + curr_exp[key]\n",
    "    for key in res.keys():\n",
    "        res[key] = round(res[key] / 10, 3)\n",
    "    print(epoch, res)"
   ],
   "metadata": {
    "collapsed": false,
    "pycharm": {
     "name": "#%%\n"
    }
   }
  },
  {
   "cell_type": "markdown",
   "source": [
    "## time statistics"
   ],
   "metadata": {
    "collapsed": false,
    "pycharm": {
     "name": "#%% md\n"
    }
   }
  },
  {
   "cell_type": "code",
   "execution_count": null,
   "outputs": [],
   "source": [
    "# cifar10\n",
    "content_path = \"E:\\\\DVI_exp_data\\\\DeepViewExp\\\\multi_run\"\n",
    "curr_path = os.path.join(content_path, \"1\", \"cifar10\", \"Model\",\"time.json\")\n",
    "with open(curr_path, \"r\") as f:\n",
    "    res = json.load(f)\n",
    "for i in range(2, 11, 1):\n",
    "    curr_path = os.path.join(content_path, \"{}\".format(i), \"cifar10\", \"Model\",\"time.json\")\n",
    "    with open(curr_path, \"r\") as f:\n",
    "        curr_exp = json.load(f)\n",
    "    for key in res.keys():\n",
    "        res[key] = res[key] + curr_exp[key]\n",
    "for key in res.keys():\n",
    "    res[key] = round(res[key] / 10, 3)\n",
    "print(res)"
   ],
   "metadata": {
    "collapsed": false,
    "pycharm": {
     "name": "#%%\n"
    }
   }
  },
  {
   "cell_type": "code",
   "execution_count": null,
   "outputs": [],
   "source": [
    "# fmnist\n",
    "content_path = \"E:\\\\DVI_exp_data\\\\DeepViewExp\\\\multi_run\"\n",
    "curr_path = os.path.join(content_path, \"1\", \"fmnist\", \"Model\",\"time.json\")\n",
    "with open(curr_path, \"r\") as f:\n",
    "    res = json.load(f)\n",
    "for i in range(2, 11, 1):\n",
    "    curr_path = os.path.join(content_path, \"{}\".format(i), \"fmnist\", \"Model\",\"time.json\")\n",
    "    with open(curr_path, \"r\") as f:\n",
    "        curr_exp = json.load(f)\n",
    "    for key in res.keys():\n",
    "        res[key] = res[key] + curr_exp[key]\n",
    "for key in res.keys():\n",
    "    res[key] = round(res[key] / 10, 3)\n",
    "print(res)"
   ],
   "metadata": {
    "collapsed": false,
    "pycharm": {
     "name": "#%%\n"
    }
   }
  },
  {
   "cell_type": "code",
   "execution_count": null,
   "outputs": [],
   "source": [
    "# mnist\n",
    "content_path = \"E:\\\\DVI_exp_data\\\\DeepViewExp\\\\multi_run\"\n",
    "curr_path = os.path.join(content_path, \"1\", \"mnist\", \"Model\",\"time.json\")\n",
    "with open(curr_path, \"r\") as f:\n",
    "    res = json.load(f)\n",
    "for i in range(2, 11, 1):\n",
    "    curr_path = os.path.join(content_path, \"{}\".format(i), \"mnist\", \"Model\",\"time.json\")\n",
    "    with open(curr_path, \"r\") as f:\n",
    "        curr_exp = json.load(f)\n",
    "    for key in res.keys():\n",
    "        res[key] = res[key] + curr_exp[key]\n",
    "for key in res.keys():\n",
    "    res[key] = round(res[key] / 10, 3)\n",
    "print(res)"
   ],
   "metadata": {
    "collapsed": false,
    "pycharm": {
     "name": "#%%\n"
    }
   }
  }
 ],
 "metadata": {
  "kernelspec": {
   "display_name": "Python 3",
   "language": "python",
   "name": "python3"
  },
  "language_info": {
   "codemirror_mode": {
    "name": "ipython",
    "version": 2
   },
   "file_extension": ".py",
   "mimetype": "text/x-python",
   "name": "python",
   "nbconvert_exporter": "python",
   "pygments_lexer": "ipython2",
   "version": "2.7.6"
  }
 },
 "nbformat": 4,
 "nbformat_minor": 0
}