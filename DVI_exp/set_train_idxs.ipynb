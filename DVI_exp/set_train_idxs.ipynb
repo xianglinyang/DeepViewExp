{
 "cells": [
  {
   "cell_type": "markdown",
   "metadata": {
    "collapsed": true,
    "pycharm": {
     "name": "#%% md\n"
    }
   },
   "source": [
    "Set train idxs for experiments"
   ]
  },
  {
   "cell_type": "code",
   "execution_count": 1,
   "outputs": [],
   "source": [
    "# import modules\n",
    "import gc\n",
    "\n",
    "import numpy as np\n",
    "import os\n",
    "import torch\n",
    "import gc\n",
    "import json"
   ],
   "metadata": {
    "collapsed": false,
    "pycharm": {
     "name": "#%%\n"
    }
   }
  },
  {
   "cell_type": "code",
   "execution_count": 8,
   "outputs": [],
   "source": [
    "content_path = \"E:\\\\DVI_exp_data\\\\DeepViewExp\\\\multi_run\\\\{}\\\\cifar10\"\n",
    "# content_path = \"E:\\\\DVI_exp_data\\\\DeepViewExp\\\\multi_run\\\\{}\\\\fmnist\"\n",
    "# content_path = \"E:\\\\DVI_exp_data\\\\DeepViewExp\\\\multi_run\\\\{}\\\\mnist\"\n",
    "# content_path = \"E:\\\\DVI_exp_data\\\\DeepViewExp\\\\multi_run\\\\{}\\\\resnet50\"\n",
    "\n",
    "model_path = os.path.join(content_path, \"Model\")\n",
    "#\n",
    "# train_label = torch.load(os.path.join(content_path.format(1), \"Training_data\",\"training_dataset_label.pth\"))\n",
    "# train_num = train_label.shape[0]\n",
    "# del train_label\n",
    "# gc.collect()"
   ],
   "metadata": {
    "collapsed": false,
    "pycharm": {
     "name": "#%%\n"
    }
   }
  },
  {
   "cell_type": "code",
   "execution_count": 9,
   "outputs": [],
   "source": [
    "# cifar10\n",
    "for i in range(1, 11, 1):\n",
    "    content_path = content_path.format(i)\n",
    "    idxs = np.random.choice(range(10000), size=200, replace=False).tolist()\n",
    "    for n_epoch in range(40, 240, 40):\n",
    "        path = os.path.join(model_path.format(i), \"Epoch_{}\".format(n_epoch),\"test_index.json\")\n",
    "        with open(path, \"w\") as f:\n",
    "            json.dump(idxs, f)"
   ],
   "metadata": {
    "collapsed": false,
    "pycharm": {
     "name": "#%%\n"
    }
   }
  },
  {
   "cell_type": "code",
   "execution_count": 5,
   "outputs": [],
   "source": [
    "# mnist\n",
    "for i in range(1, 11, 1):\n",
    "    content_path = content_path.format(i)\n",
    "    idxs = np.random.choice(range(10000), size=200, replace=False).tolist()\n",
    "    for n_epoch in range(4, 24, 4):\n",
    "        path = os.path.join(model_path.format(i), \"Epoch_{}\".format(n_epoch),\"test_index.json\")\n",
    "        with open(path, \"w\") as f:\n",
    "            json.dump(idxs, f)"
   ],
   "metadata": {
    "collapsed": false,
    "pycharm": {
     "name": "#%%\n"
    }
   }
  },
  {
   "cell_type": "code",
   "execution_count": 7,
   "outputs": [],
   "source": [
    "# fmnist\n",
    "for i in range(1, 11, 1):\n",
    "    content_path = content_path.format(i)\n",
    "    idxs = np.random.choice(range(10000), size=200, replace=False).tolist()\n",
    "    for n_epoch in range(10, 60, 10):\n",
    "        path = os.path.join(model_path.format(i), \"Epoch_{}\".format(n_epoch),\"test_index.json\")\n",
    "        with open(path, \"w\") as f:\n",
    "            json.dump(idxs, f)"
   ],
   "metadata": {
    "collapsed": false,
    "pycharm": {
     "name": "#%%\n"
    }
   }
  }
 ],
 "metadata": {
  "kernelspec": {
   "name": "dr2",
   "language": "python",
   "display_name": "Python xianglinDR2"
  },
  "language_info": {
   "codemirror_mode": {
    "name": "ipython",
    "version": 2
   },
   "file_extension": ".py",
   "mimetype": "text/x-python",
   "name": "python",
   "nbconvert_exporter": "python",
   "pygments_lexer": "ipython2",
   "version": "2.7.6"
  }
 },
 "nbformat": 4,
 "nbformat_minor": 0
}